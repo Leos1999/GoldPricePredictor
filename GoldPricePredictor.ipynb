{
  "nbformat": 4,
  "nbformat_minor": 0,
  "metadata": {
    "colab": {
      "name": "GoldPricePredictor.ipynb",
      "provenance": [],
      "authorship_tag": "ABX9TyM+EYswpx/0o1XDYxAFA095",
      "include_colab_link": true
    },
    "kernelspec": {
      "name": "python3",
      "display_name": "Python 3"
    }
  },
  "cells": [
    {
      "cell_type": "markdown",
      "metadata": {
        "id": "view-in-github",
        "colab_type": "text"
      },
      "source": [
        "<a href=\"https://colab.research.google.com/github/Leos1999/GoldPricePredictor/blob/master/GoldPricePredictor.ipynb\" target=\"_parent\"><img src=\"https://colab.research.google.com/assets/colab-badge.svg\" alt=\"Open In Colab\"/></a>"
      ]
    },
    {
      "cell_type": "code",
      "metadata": {
        "id": "m9Z_pveofhB6",
        "colab_type": "code",
        "colab": {}
      },
      "source": [
        "import math\n",
        "import numpy as np\n",
        "import pandas as pd\n",
        "import matplotlib.pyplot as plt\n",
        "from tensorflow.keras import optimizers\n",
        "from sklearn.metrics import mean_squared_error\n",
        "from sklearn.preprocessing import MinMaxScaler\n",
        "from tensorflow.keras.models import Sequential\n",
        "from tensorflow.keras.models import load_model\n",
        "from tensorflow.keras.callbacks import ModelCheckpoint,LearningRateScheduler\n",
        "from tensorflow.keras.layers import Dense, LSTM, Dropout"
      ],
      "execution_count": 1,
      "outputs": []
    },
    {
      "cell_type": "code",
      "metadata": {
        "id": "WDiEBrC-iOmm",
        "colab_type": "code",
        "colab": {
          "base_uri": "https://localhost:8080/",
          "height": 34
        },
        "outputId": "3f70b27b-11e6-438f-fae9-f03479cf6141"
      },
      "source": [
        "data_URL = \"https://raw.githubusercontent.com/Leos1999/GoldPricePredictor/master/goldrate.csv\"\n",
        "data = pd.read_csv(data_URL)\n",
        "data.head()\n",
        "data = data.iloc[:,1].values.reshape(-1,1)\n",
        "print(data.shape)\n",
        "scaler = MinMaxScaler(feature_range = (0, 1))"
      ],
      "execution_count": 9,
      "outputs": [
        {
          "output_type": "stream",
          "text": [
            "(607, 1)\n"
          ],
          "name": "stdout"
        }
      ]
    },
    {
      "cell_type": "code",
      "metadata": {
        "id": "DvsJU3N4mKEh",
        "colab_type": "code",
        "colab": {}
      },
      "source": [
        "def train_test_split_norm(data):\n",
        "  data_norm = scaler.fit_transform(data)\n",
        "\n",
        "  size = 0.85\n",
        "  train_size = int(len(data_norm) * size)\n",
        "  test_size = len(data_norm) - train_size\n",
        "  train, test = data_norm[0:train_size, :], data_norm[train_size:len(data_norm), :]\n",
        "  print(\"Number of entries (training set, test set): \" + str((len(train), len(test))))\n",
        "  return train,test"
      ],
      "execution_count": 10,
      "outputs": []
    },
    {
      "cell_type": "code",
      "metadata": {
        "id": "MsToa4I-mWIS",
        "colab_type": "code",
        "colab": {}
      },
      "source": [
        "def create_dataset(dataset, window_size):\n",
        "    data_X, data_Y = [], []\n",
        "    for i in range(len(dataset) - window_size - 1):\n",
        "        a = dataset[i:(i + window_size), 0]\n",
        "        data_X.append(a)\n",
        "        data_Y.append(dataset[i + window_size, 0])\n",
        "    return(np.array(data_X), np.array(data_Y))"
      ],
      "execution_count": 11,
      "outputs": []
    },
    {
      "cell_type": "code",
      "metadata": {
        "id": "Aw_-evtqmYe-",
        "colab_type": "code",
        "colab": {}
      },
      "source": [
        "def window_maker(data,window_size):\n",
        "  train,test = train_test_split_norm(data)\n",
        "  train_X, train_Y = create_dataset(train, window_size)\n",
        "  test_X, test_Y = create_dataset(test, window_size)\n",
        "  # print(\"Original training data shape:\")\n",
        "  # print(train_X.shape)\n",
        "  train_X = np.reshape(train_X, (train_X.shape[0], 1, train_X.shape[1]))\n",
        "  test_X = np.reshape(test_X, (test_X.shape[0], 1, test_X.shape[1]))\n",
        "  # print(\"New training data shape:\")\n",
        "  # print(train_X.shape)\n",
        "  return train_X,train_Y,test_X,test_Y,train,test"
      ],
      "execution_count": 12,
      "outputs": []
    },
    {
      "cell_type": "code",
      "metadata": {
        "id": "Tdhjy7eoma4K",
        "colab_type": "code",
        "colab": {}
      },
      "source": [
        ""
      ],
      "execution_count": null,
      "outputs": []
    }
  ]
}